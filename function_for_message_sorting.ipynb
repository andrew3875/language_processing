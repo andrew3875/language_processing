{
 "cells": [
  {
   "cell_type": "code",
   "execution_count": 1,
   "metadata": {},
   "outputs": [],
   "source": [
    "import os\n",
    "import pickle"
   ]
  },
  {
   "cell_type": "code",
   "execution_count": 2,
   "metadata": {},
   "outputs": [],
   "source": [
    "saved_model = os.getcwd() + \"/\" + \"model3.pkl\" #load model stored locally"
   ]
  },
  {
   "cell_type": "code",
   "execution_count": 3,
   "metadata": {},
   "outputs": [],
   "source": [
    "def date_deadline(message):\n",
    "    with open(saved_model, 'rb') as file:\n",
    "        model = pickle.load(file)\n",
    "    if list(model.predict([message])) == [0]:\n",
    "        return \"date\"\n",
    "    if list(model.predict([message])) == [1]:\n",
    "        return \"deadline\""
   ]
  },
  {
   "cell_type": "code",
   "execution_count": 2,
   "metadata": {},
   "outputs": [],
   "source": [
    "saved_model = os.getcwd() + \"/\" + \"model.pkl\" #load model stored locally"
   ]
  },
  {
   "cell_type": "code",
   "execution_count": 3,
   "metadata": {},
   "outputs": [],
   "source": [
    "def get_type(message):\n",
    "    with open(saved_model, 'rb') as file:\n",
    "        model = pickle.load(file)\n",
    "    if list(model.predict([message])) == [0]:\n",
    "        return \"location\"\n",
    "    if list(model.predict([message])) == [1]:\n",
    "        return \"time\""
   ]
  },
  {
   "cell_type": "code",
   "execution_count": 2,
   "metadata": {},
   "outputs": [],
   "source": [
    "saved_model = os.getcwd() + \"/\" + \"model2.pkl\" #load model stored locally\n"
   ]
  },
  {
   "cell_type": "code",
   "execution_count": 12,
   "metadata": {},
   "outputs": [],
   "source": [
    "def get_type_question_answer(message):\n",
    "    with open(saved_model, 'rb') as file:\n",
    "        model = pickle.load(file)\n",
    "    if list(model.predict([message])) == [0]:\n",
    "        return \"question\"\n",
    "    if list(model.predict([message])) == [1]:\n",
    "        return \"answer\""
   ]
  },
  {
   "cell_type": "code",
   "execution_count": 6,
   "metadata": {},
   "outputs": [],
   "source": [
    "import dateparser\n",
    "from dateparser.search import search_dates"
   ]
  },
  {
   "cell_type": "code",
   "execution_count": 7,
   "metadata": {},
   "outputs": [],
   "source": [
    "def get_date(message): #returns date in M/D/Y 00:00:00 format\n",
    "    res = search_dates(message, languages = ['en'])\n",
    "    if not res:\n",
    "        return(None)\n",
    "    else:\n",
    "        date = res[0][1].strftime('%x %X')\n",
    "        return(date)"
   ]
  },
  {
   "cell_type": "code",
   "execution_count": 8,
   "metadata": {},
   "outputs": [
    {
     "data": {
      "text/plain": [
       "'03/31/21 13:37:57'"
      ]
     },
     "execution_count": 8,
     "metadata": {},
     "output_type": "execute_result"
    }
   ],
   "source": [
    "get_date(\"call mom tomorrow\")"
   ]
  },
  {
   "cell_type": "code",
   "execution_count": 3,
   "metadata": {},
   "outputs": [
    {
     "name": "stderr",
     "output_type": "stream",
     "text": [
      "/home/andrei/.local/lib/python3.8/site-packages/torch/cuda/__init__.py:52: UserWarning: CUDA initialization: Found no NVIDIA driver on your system. Please check that you have an NVIDIA GPU and installed a driver from http://www.nvidia.com/Download/index.aspx (Triggered internally at  /pytorch/c10/cuda/CUDAFunctions.cpp:100.)\n",
      "  return torch._C._cuda_getDeviceCount() > 0\n"
     ]
    }
   ],
   "source": [
    "import spacy\n",
    "nlp = spacy.load(\"en_core_web_trf\")"
   ]
  },
  {
   "cell_type": "code",
   "execution_count": 31,
   "metadata": {},
   "outputs": [],
   "source": [
    "def get_subject(message):\n",
    "    result = [chunk.text for chunk in nlp(message).noun_chunks if chunk.root.dep_=='nsubj' or chunk.root.dep_=='conj']\n",
    "    return(result)"
   ]
  },
  {
   "cell_type": "code",
   "execution_count": 32,
   "metadata": {},
   "outputs": [
    {
     "data": {
      "text/plain": [
       "['my important documents', 'blue jeans']"
      ]
     },
     "execution_count": 32,
     "metadata": {},
     "output_type": "execute_result"
    }
   ],
   "source": [
    "get_subject(\"Where are my important documents and blue jeans?\")"
   ]
  },
  {
   "cell_type": "code",
   "execution_count": 15,
   "metadata": {},
   "outputs": [],
   "source": [
    "import datetime, dateparser, re\n",
    "def get_time(message):\n",
    "    result = ['','']\n",
    "    doc = nlp(message) \n",
    "    entities = [ent.text for ent in doc.ents if ent.label_=='DATE' or ent.label_=='TIME']\n",
    "    if entities:\n",
    "        parsed_date = dateparser.parse(\" \".join(entities)) \n",
    "        if parsed_date: # date was recognized by dateparser\n",
    "            for ent in doc.ents:\n",
    "                if ent.label_ == 'DATE' or ent.label_==' TIME' and ent.start != 0:\n",
    "                    prev_token = doc[ent.start - 1]\n",
    "                    if prev_token.text == \"before\":\n",
    "                        result = ['', parsed_date.strftime('%Y-%m-%d %H:%M:%S')]\n",
    "                    elif prev_token.text == \"after\":\n",
    "                        result = [parsed_date.strftime('%Y-%m-%d %H:%M:%S'), '']\n",
    "                    else:\n",
    "                        result = [parsed_date.strftime('%Y-%m-%d %H:%M:%S'), '']\n",
    "                    break\n",
    "    if result == ['','']: # between dates\n",
    "        if entities:     \n",
    "            match = re.match(\".*(between)\\s+(.*)\\s+(and)\\s+(.*)\", entities[0])\n",
    "            if match:\n",
    "                if match.group(1) == \"between\" and match.group(3) == \"and\":\n",
    "                    date1 = match.group(2)\n",
    "                    date2 = match.group(4)\n",
    "                    parsed_date1 = dateparser.parse(date1)\n",
    "                    parsed_date2 = dateparser.parse(date2)\n",
    "                    conv_date1 = parsed_date1.strftime('%Y-%m-%d %H:%M:%S')\n",
    "                    date2_fix = parsed_date2 + datetime.timedelta(days=1)\n",
    "                    date2_fix = date2_fix - datetime.timedelta(seconds=1)\n",
    "                    conv_date2 = date2_fix.strftime('%Y-%m-%d %H:%M:%S')\n",
    "                    result = [conv_date1, conv_date2]\n",
    "    return(result)"
   ]
  },
  {
   "cell_type": "code",
   "execution_count": 21,
   "metadata": {},
   "outputs": [
    {
     "data": {
      "text/plain": [
       "['2021-11-11 00:00:00', '2021-11-13 23:59:59']"
      ]
     },
     "execution_count": 21,
     "metadata": {},
     "output_type": "execute_result"
    }
   ],
   "source": [
    "get_time(\"Find events between 11th November  and 13th November\")"
   ]
  },
  {
   "cell_type": "code",
   "execution_count": 19,
   "metadata": {},
   "outputs": [
    {
     "data": {
      "text/plain": [
       "['', '2021-11-11 00:00:00']"
      ]
     },
     "execution_count": 19,
     "metadata": {},
     "output_type": "execute_result"
    }
   ],
   "source": [
    "get_time(\"Find events before 11th November\")"
   ]
  },
  {
   "cell_type": "code",
   "execution_count": 20,
   "metadata": {},
   "outputs": [
    {
     "data": {
      "text/plain": [
       "['2021-11-11 00:00:00', '']"
      ]
     },
     "execution_count": 20,
     "metadata": {},
     "output_type": "execute_result"
    }
   ],
   "source": [
    "get_time(\"Find events after 11th November\")"
   ]
  },
  {
   "cell_type": "code",
   "execution_count": 4,
   "metadata": {},
   "outputs": [
    {
     "data": {
      "text/plain": [
       "'date'"
      ]
     },
     "execution_count": 4,
     "metadata": {},
     "output_type": "execute_result"
    }
   ],
   "source": [
    "date_deadline('What records did I make yesterday?')\n"
   ]
  },
  {
   "cell_type": "code",
   "execution_count": 34,
   "metadata": {},
   "outputs": [
    {
     "ename": "NameError",
     "evalue": "name 'date_deadline' is not defined",
     "output_type": "error",
     "traceback": [
      "\u001b[0;31m---------------------------------------------------------------------------\u001b[0m",
      "\u001b[0;31mNameError\u001b[0m                                 Traceback (most recent call last)",
      "\u001b[0;32m<ipython-input-34-ff51a1890d5b>\u001b[0m in \u001b[0;36m<module>\u001b[0;34m\u001b[0m\n\u001b[0;32m----> 1\u001b[0;31m \u001b[0mdate_deadline\u001b[0m\u001b[0;34m(\u001b[0m\u001b[0;34m'Did I do anything last September?'\u001b[0m\u001b[0;34m)\u001b[0m\u001b[0;34m\u001b[0m\u001b[0;34m\u001b[0m\u001b[0m\n\u001b[0m",
      "\u001b[0;31mNameError\u001b[0m: name 'date_deadline' is not defined"
     ]
    }
   ],
   "source": [
    "date_deadline('Did I do anything last September?')\n"
   ]
  },
  {
   "cell_type": "code",
   "execution_count": 39,
   "metadata": {},
   "outputs": [
    {
     "data": {
      "text/plain": [
       "'question'"
      ]
     },
     "execution_count": 39,
     "metadata": {},
     "output_type": "execute_result"
    }
   ],
   "source": [
    "get_type_question_answer('i need to go  tomorrow')\n"
   ]
  },
  {
   "cell_type": "code",
   "execution_count": 2,
   "metadata": {},
   "outputs": [],
   "source": [
    "saved_model = os.getcwd() + \"/\" + \"model_get_type.pkl\" #load model stored locally"
   ]
  },
  {
   "cell_type": "code",
   "execution_count": 5,
   "metadata": {},
   "outputs": [],
   "source": [
    "def get_type(message):\n",
    "    with open(saved_model, 'rb') as file:\n",
    "        model = pickle.load(file)\n",
    "    if list(model.predict([message.lower()])) == [0]:\n",
    "        return \"location\"\n",
    "    if list(model.predict([message.lower()])) == [1]:\n",
    "        return \"time\"\n",
    "    if list(model.predict([message.lower()])) == [2]:\n",
    "        return \"note\""
   ]
  },
  {
   "cell_type": "code",
   "execution_count": 7,
   "metadata": {},
   "outputs": [
    {
     "data": {
      "text/plain": [
       "'note'"
      ]
     },
     "execution_count": 7,
     "metadata": {},
     "output_type": "execute_result"
    }
   ],
   "source": [
    "get_type('I have to buy tomatoes')"
   ]
  },
  {
   "cell_type": "code",
   "execution_count": 8,
   "metadata": {},
   "outputs": [
    {
     "data": {
      "text/plain": [
       "'time'"
      ]
     },
     "execution_count": 8,
     "metadata": {},
     "output_type": "execute_result"
    }
   ],
   "source": [
    "get_type('I have to buy tomatoes at 5 PM')"
   ]
  },
  {
   "cell_type": "code",
   "execution_count": 9,
   "metadata": {},
   "outputs": [
    {
     "data": {
      "text/plain": [
       "'location'"
      ]
     },
     "execution_count": 9,
     "metadata": {},
     "output_type": "execute_result"
    }
   ],
   "source": [
    "get_type('tomatoes are on the shelf')"
   ]
  },
  {
   "cell_type": "code",
   "execution_count": null,
   "metadata": {},
   "outputs": [],
   "source": []
  }
 ],
 "metadata": {
  "kernelspec": {
   "display_name": "Python 3",
   "language": "python",
   "name": "python3"
  },
  "language_info": {
   "codemirror_mode": {
    "name": "ipython",
    "version": 3
   },
   "file_extension": ".py",
   "mimetype": "text/x-python",
   "name": "python",
   "nbconvert_exporter": "python",
   "pygments_lexer": "ipython3",
   "version": "3.8.5"
  }
 },
 "nbformat": 4,
 "nbformat_minor": 4
}
